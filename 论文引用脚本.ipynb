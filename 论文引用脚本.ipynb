{
 "cells": [
  {
   "cell_type": "code",
   "execution_count": 36,
   "metadata": {},
   "outputs": [
    {
     "name": "stdout",
     "output_type": "stream",
     "text": [
      "杨国振.装甲装备故障预测与健康管理系统技术研究.计算机测量与控,2012\n",
      "张秋菊.电子系统故障预测与健康管理技术研究.光电技术应用,2015\n",
      "钟晶鑫.装备电子系统故障预测与健康管理综述.飞航导弹,2014\n",
      "张秋菊.电子系统故障预测与健康管理技术研究.光电技术应用,2015\n",
      "高荣.浅述新兴的电子系统故障预测与健康管理.科技资讯,2014\n",
      "张广法.导弹装备基于状态的维修理论研究.舰船电子工程,2014\n",
      "彭宇.数据驱动故障预测和健康管理综述.仪器仪表学报,2014\n",
      "王锟.复杂装备故障预测与健康管理体系结构研究.计算机测量与控制,2012\n",
      "温祥西.网络故障预测与健康管理关键技术综述.系统工程理论与实践,2012\n",
      "孙旭.故障预测和健康管理（PHM）系统.舰船科学技术,2011\n",
      "孙翔.基于HMM的电子系统故障预测与健康管理研究.电子对抗,2012\n",
      "王景.农业机器的技术维护.农民致富之友,2013\n",
      "郭广笑.航空电子故障预测与健康管理的技术发展.中国科技投资,2014\n",
      "郭广笑.航空电子故障预测与健康管理的技术发展.中国科技投资,2014\n",
      "李城漳.AO审计软件在工程结算审计中的应用.中国审计,2014\n",
      "王景.农业机器的技术维护.农民致富之友,2013\n",
      "董保良.通信装备视情维修与状态监测研究.现代电子技术,2015\n",
      "梅慧.基于机器学习方法的MHC结合肽的预测分析研究.中外医学研究,2012\n",
      "王锟.复杂装备故障预测与健康管理体系结构研究.计算机测量与控制,2012\n",
      "孟繁佳.基于嵌入式力学传感器的圆锥指数仪设计与试验.农业机械学报,2013\n",
      "陈典斌.基于VB/GM（1,1）模型的腐蚀管道剩余寿命预测分析.全面腐蚀控制,2014\n"
     ]
    }
   ],
   "source": [
    "with open('123.txt', 'r') as f:\n",
    "    for i in f.readlines():\n",
    "        original = i.split()[2:]\n",
    "        names = re.findall(r'《(.*?)》', original[0], re.S)\n",
    "        years = original[1][3:]\n",
    "        auther = original[2][3:]\n",
    "        try :\n",
    "            result = auther + '.' + names[0] + '.' + names[1] + ',' + years\n",
    "        except:\n",
    "            pass\n",
    "#         print(names, years, auther)\n",
    "        print(result)"
   ]
  },
  {
   "cell_type": "code",
   "execution_count": 19,
   "metadata": {},
   "outputs": [
    {
     "data": {
      "text/plain": [
       "['装甲装备故障预测与健康管理系统技术研究', '计算机测量与控']"
      ]
     },
     "execution_count": 19,
     "metadata": {},
     "output_type": "execute_result"
    }
   ],
   "source": [
    "import re\n",
    "test = '篇名：《装甲装备故障预测与健康管理系统技术研究》来源：《计算机测量与控》'\n",
    "re.findall(r'《(.*?)》', test, re.S)\n"
   ]
  },
  {
   "cell_type": "code",
   "execution_count": 27,
   "metadata": {},
   "outputs": [
    {
     "data": {
      "text/plain": [
       "'2012'"
      ]
     },
     "execution_count": 27,
     "metadata": {},
     "output_type": "execute_result"
    }
   ],
   "source": [
    "test1 = '年份：2012'\n",
    "test1[3:]"
   ]
  },
  {
   "cell_type": "code",
   "execution_count": 28,
   "metadata": {},
   "outputs": [
    {
     "data": {
      "text/plain": [
       "'杨国振'"
      ]
     },
     "execution_count": 28,
     "metadata": {},
     "output_type": "execute_result"
    }
   ],
   "source": [
    "test2 = '作者：杨国振'\n",
    "test[3:]"
   ]
  }
 ],
 "metadata": {
  "anaconda-cloud": {},
  "kernelspec": {
   "display_name": "Python [conda root]",
   "language": "python",
   "name": "conda-root-py"
  },
  "language_info": {
   "codemirror_mode": {
    "name": "ipython",
    "version": 3
   },
   "file_extension": ".py",
   "mimetype": "text/x-python",
   "name": "python",
   "nbconvert_exporter": "python",
   "pygments_lexer": "ipython3",
   "version": "3.5.5"
  }
 },
 "nbformat": 4,
 "nbformat_minor": 2
}
